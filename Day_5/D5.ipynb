{
 "cells": [
  {
   "cell_type": "markdown",
   "metadata": {},
   "source": [
    "--- Day 5: Supply Stacks ---\n",
    "The expedition can depart as soon as the final supplies have been unloaded from the ships. Supplies are stored in stacks of marked crates, but because the needed supplies are buried under many other crates, the crates need to be rearranged.\n",
    "\n",
    "The ship has a giant cargo crane capable of moving crates between stacks. To ensure none of the crates get crushed or fall over, the crane operator will rearrange them in a series of carefully-planned steps. After the crates are rearranged, the desired crates will be at the top of each stack.\n",
    "\n",
    "The Elves don't want to interrupt the crane operator during this delicate procedure, but they forgot to ask her which crate will end up where, and they want to be ready to unload them as soon as possible so they can embark.\n",
    "\n",
    "They do, however, have a drawing of the starting stacks of crates and the rearrangement procedure (your puzzle input). For example:\n",
    "\n",
    "    [D]    \n",
    "[N] [C]    \n",
    "[Z] [M] [P]\n",
    " 1   2   3 \n",
    "\n",
    "move 1 from 2 to 1\n",
    "move 3 from 1 to 3\n",
    "move 2 from 2 to 1\n",
    "move 1 from 1 to 2\n",
    "In this example, there are three stacks of crates. Stack 1 contains two crates: crate Z is on the bottom, and crate N is on top. Stack 2 contains three crates; from bottom to top, they are crates M, C, and D. Finally, stack 3 contains a single crate, P.\n",
    "\n",
    "Then, the rearrangement procedure is given. In each step of the procedure, a quantity of crates is moved from one stack to a different stack. In the first step of the above rearrangement procedure, one crate is moved from stack 2 to stack 1, resulting in this configuration:\n",
    "\n",
    "[D]        \n",
    "[N] [C]    \n",
    "[Z] [M] [P]\n",
    " 1   2   3 \n",
    "In the second step, three crates are moved from stack 1 to stack 3. Crates are moved one at a time, so the first crate to be moved (D) ends up below the second and third crates:\n",
    "\n",
    "        [Z]\n",
    "        [N]\n",
    "    [C] [D]\n",
    "    [M] [P]\n",
    " 1   2   3\n",
    "Then, both crates are moved from stack 2 to stack 1. Again, because crates are moved one at a time, crate C ends up below crate M:\n",
    "\n",
    "        [Z]\n",
    "        [N]\n",
    "[M]     [D]\n",
    "[C]     [P]\n",
    " 1   2   3\n",
    "Finally, one crate is moved from stack 1 to stack 2:\n",
    "\n",
    "        [Z]\n",
    "        [N]\n",
    "        [D]\n",
    "[C] [M] [P]\n",
    " 1   2   3\n",
    "The Elves just need to know which crate will end up on top of each stack; in this example, the top crates are C in stack 1, M in stack 2, and Z in stack 3, so you should combine these together and give the Elves the message CMZ.\n",
    "\n",
    "After the rearrangement procedure completes, what crate ends up on top of each stack?"
   ]
  },
  {
   "cell_type": "code",
   "execution_count": 1,
   "metadata": {},
   "outputs": [],
   "source": [
    "with open(\"d5_data.txt\", \"r\") as file:\n",
    "    data = file.read()\n",
    "\n",
    "split_data = data.split(\"\\n\")"
   ]
  },
  {
   "cell_type": "code",
   "execution_count": 8,
   "metadata": {},
   "outputs": [
    {
     "name": "stdout",
     "output_type": "stream",
     "text": [
      "{1: ['D', 'B', 'J', 'V'], 2: ['P', 'V', 'B', 'W', 'R', 'D', 'F'], 3: ['R', 'G', 'F', 'L', 'D', 'C', 'W', 'Q'], 4: ['W', 'J', 'P', 'M', 'L', 'N', 'D', 'B'], 5: ['H', 'N', 'B', 'P', 'C', 'S', 'Q'], 6: ['R', 'D', 'B', 'S', 'N', 'G'], 7: ['Z', 'B', 'P', 'M', 'Q', 'F', 'S', 'H'], 8: ['W', 'L', 'F'], 9: ['S', 'V', 'F', 'M', 'R']}\n"
     ]
    }
   ],
   "source": [
    "stacks={}\n",
    "for i in range(9):\n",
    "    stacks[i+1] = []\n",
    "\n",
    "header = split_data[0:8]\n",
    "header.reverse()\n",
    "for row in header:\n",
    "    items = list(row[1::4])\n",
    "    for i in range(len(items)):\n",
    "        if items[i] == \" \":\n",
    "            continue\n",
    "        stacks[i+1].append(items[i])\n",
    "\n",
    "print(stacks)"
   ]
  },
  {
   "cell_type": "code",
   "execution_count": 7,
   "metadata": {},
   "outputs": [
    {
     "ename": "IndexError",
     "evalue": "pop from empty list",
     "output_type": "error",
     "traceback": [
      "\u001b[1;31m---------------------------------------------------------------------------\u001b[0m",
      "\u001b[1;31mIndexError\u001b[0m                                Traceback (most recent call last)",
      "Cell \u001b[1;32mIn[7], line 5\u001b[0m\n\u001b[0;32m      3\u001b[0m \u001b[39mfor\u001b[39;00m movement \u001b[39min\u001b[39;00m movements:\n\u001b[0;32m      4\u001b[0m     \u001b[39mfor\u001b[39;00m move \u001b[39min\u001b[39;00m \u001b[39mrange\u001b[39m(\u001b[39mint\u001b[39m(movement[\u001b[39m0\u001b[39m])):\n\u001b[1;32m----> 5\u001b[0m             stacks[\u001b[39mint\u001b[39m(movement[\u001b[39m2\u001b[39m])]\u001b[39m.\u001b[39mappend(stacks[\u001b[39mint\u001b[39;49m(movement[\u001b[39m1\u001b[39;49m])]\u001b[39m.\u001b[39;49mpop(\u001b[39m-\u001b[39;49m\u001b[39m1\u001b[39;49m))\n",
      "\u001b[1;31mIndexError\u001b[0m: pop from empty list"
     ]
    }
   ],
   "source": [
    "movement_lines = split_data[10:]\n",
    "movements = [movement.replace(\"move \",\"\").replace(\"from \",\"\").replace(\"to \",\"\").split(\" \") for movement in movement_lines]\n",
    "for movement in movements:\n",
    "    for move in range(int(movement[0])):\n",
    "            stacks[int(movement[2])].append(stacks[int(movement[1])].pop(-1))"
   ]
  },
  {
   "cell_type": "code",
   "execution_count": 4,
   "metadata": {},
   "outputs": [
    {
     "name": "stdout",
     "output_type": "stream",
     "text": [
      "BSDMQFLSP\n"
     ]
    }
   ],
   "source": [
    "final_string = \"\"\n",
    "for i in range(9):\n",
    "    final_string+=(stacks[i+1][-1])\n",
    "\n",
    "print(final_string)"
   ]
  },
  {
   "cell_type": "markdown",
   "metadata": {},
   "source": [
    "--- Part Two ---\n",
    "As you watch the crane operator expertly rearrange the crates, you notice the process isn't following your prediction.\n",
    "\n",
    "Some mud was covering the writing on the side of the crane, and you quickly wipe it away. The crane isn't a CrateMover 9000 - it's a CrateMover 9001.\n",
    "\n",
    "The CrateMover 9001 is notable for many new and exciting features: air conditioning, leather seats, an extra cup holder, and the ability to pick up and move multiple crates at once.\n",
    "\n",
    "Again considering the example above, the crates begin in the same configuration:\n",
    "\n",
    "    [D]    \n",
    "[N] [C]    \n",
    "[Z] [M] [P]\n",
    " 1   2   3 \n",
    "Moving a single crate from stack 2 to stack 1 behaves the same as before:\n",
    "\n",
    "[D]        \n",
    "[N] [C]    \n",
    "[Z] [M] [P]\n",
    " 1   2   3 \n",
    "However, the action of moving three crates from stack 1 to stack 3 means that those three moved crates stay in the same order, resulting in this new configuration:\n",
    "\n",
    "        [D]\n",
    "        [N]\n",
    "    [C] [Z]\n",
    "    [M] [P]\n",
    " 1   2   3\n",
    "Next, as both crates are moved from stack 2 to stack 1, they retain their order as well:\n",
    "\n",
    "        [D]\n",
    "        [N]\n",
    "[C]     [Z]\n",
    "[M]     [P]\n",
    " 1   2   3\n",
    "Finally, a single crate is still moved from stack 1 to stack 2, but now it's crate C that gets moved:\n",
    "\n",
    "        [D]\n",
    "        [N]\n",
    "        [Z]\n",
    "[M] [C] [P]\n",
    " 1   2   3\n",
    "In this example, the CrateMover 9001 has put the crates in a totally different order: MCD.\n",
    "\n",
    "Before the rearrangement process finishes, update your simulation so that the Elves know where they should stand to be ready to unload the final supplies. After the rearrangement procedure completes, what crate ends up on top of each stack?"
   ]
  },
  {
   "cell_type": "code",
   "execution_count": 9,
   "metadata": {},
   "outputs": [],
   "source": [
    "for movement in movements:\n",
    "        stacks[int(movement[2])]+=stacks[int(movement[1])][-int(movement[0]):]\n",
    "        del stacks[int(movement[1])][-int(movement[0]):]"
   ]
  },
  {
   "cell_type": "code",
   "execution_count": 10,
   "metadata": {},
   "outputs": [
    {
     "name": "stdout",
     "output_type": "stream",
     "text": [
      "{1: ['F', 'D', 'M', 'G', 'P'], 2: ['D', 'V', 'Z', 'G'], 3: ['M', 'R', 'R', 'S', 'V', 'B', 'H', 'S'], 4: ['S', 'H', 'Q'], 5: ['D', 'L', 'C', 'N', 'B'], 6: ['D', 'P', 'J', 'W', 'C', 'B', 'S', 'N', 'F', 'L', 'F', 'W', 'R', 'Q', 'F', 'W', 'F'], 7: ['V', 'L'], 8: ['D'], 9: ['W', 'Q', 'B', 'B', 'P', 'M', 'B', 'J', 'R', 'N', 'P']}\n",
      "PGSQBFLDP\n"
     ]
    }
   ],
   "source": [
    "print(stacks)\n",
    "final_string = \"\"\n",
    "for i in range(9):\n",
    "    if stacks[i+1] != []:\n",
    "        final_string+=(stacks[i+1][-1])\n",
    "\n",
    "print(final_string)"
   ]
  }
 ],
 "metadata": {
  "kernelspec": {
   "display_name": "Python 3.9.5 64-bit",
   "language": "python",
   "name": "python3"
  },
  "language_info": {
   "codemirror_mode": {
    "name": "ipython",
    "version": 3
   },
   "file_extension": ".py",
   "mimetype": "text/x-python",
   "name": "python",
   "nbconvert_exporter": "python",
   "pygments_lexer": "ipython3",
   "version": "3.9.5"
  },
  "orig_nbformat": 4,
  "vscode": {
   "interpreter": {
    "hash": "1eb2a5bd0784f5ab6e5e7696d72d6c6781a871cb41b23ea43d3e081da708a9e4"
   }
  }
 },
 "nbformat": 4,
 "nbformat_minor": 2
}
