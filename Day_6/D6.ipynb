{
 "cells": [
  {
   "cell_type": "markdown",
   "metadata": {},
   "source": [
    "--- Day 6:  ---\n"
   ]
  },
  {
   "cell_type": "code",
   "execution_count": 329,
   "metadata": {},
   "outputs": [],
   "source": [
    "class Folder:\n",
    "    \"\"\" \"\"\"\n",
    "\n",
    "    def __init__(self, name, parent, child_directories, child_files):\n",
    "        \"\"\"_summary_\n",
    "\n",
    "        Args:\n",
    "            name (str): _description_\n",
    "            parent (Folder): _description_\n",
    "            child_directories ([Folder]): _description_\n",
    "            child_files ([File]): _description_\n",
    "        \"\"\"\n",
    "        self.name = name\n",
    "        self.parent = parent\n",
    "        self.child_directories = child_directories\n",
    "        self.child_files = child_files\n",
    "        if parent:\n",
    "            self.path = parent.path + \"/\" + name\n",
    "        else:\n",
    "            self.path = \"\"\n",
    "        \n",
    "        if self._size = None\n",
    "\n",
    "    @property\n",
    "    def child_dirs_list(self):\n",
    "        return list(self.child_directories.values())\n",
    "\n",
    "    @property\n",
    "    def size(self):\n",
    "        \"\"\" \"\"\"\n",
    "        if self._size:\n",
    "            return self._size\n",
    "        \n",
    "        kids = self.child_dirs_list + self.child_files\n",
    "        self._size = sum([child.size for child in kids])\n",
    "        return self._size\n",
    "\n",
    "    def get_all_child_dirs(self):\n",
    "        \"\"\" \"\"\"\n",
    "        child_dirs_lists = [\n",
    "            directory.get_all_child_dirs() for directory in self.child_dirs_list\n",
    "        ]\n",
    "        return self.child_dirs_list + sum(child_dirs_lists, [])\n",
    "\n",
    "    def build_tree(self):\n",
    "        self.tree = {}\n",
    "        for child in self.child_dirs_list:\n",
    "            child.build_tree()\n",
    "            self.tree[child.name] = child.tree\n",
    "        for child in self.child_files:\n",
    "            self.tree[child.name] = child.size\n",
    "\n",
    "    def __str__(self):\n",
    "        return self.path\n"
   ]
  },
  {
   "cell_type": "code",
   "execution_count": 330,
   "metadata": {},
   "outputs": [],
   "source": [
    "class File:\n",
    "    \"\"\" \"\"\"\n",
    "\n",
    "    def __init__(self, name, parent, size):\n",
    "        \"\"\"_summary_\n",
    "\n",
    "        Args:\n",
    "            name (str): _description_\n",
    "            parent (Folder): _description_\n",
    "            size (int): _description_\n",
    "        \"\"\"\n",
    "        self.name = name\n",
    "        self.parent = parent\n",
    "        self.size = size\n",
    "\n",
    "    def __str__(self):\n",
    "        return self.name + \" - \" + str(self.size)"
   ]
  },
  {
   "cell_type": "code",
   "execution_count": 331,
   "metadata": {},
   "outputs": [
    {
     "data": {
      "text/plain": [
       "1063"
      ]
     },
     "execution_count": 331,
     "metadata": {},
     "output_type": "execute_result"
    }
   ],
   "source": [
    "with open(\"d6_data.txt\", \"r\") as file:\n",
    "    data = file.read()\n",
    "\n",
    "split_data = data.split(\"\\n\")\n",
    "len(split_data)"
   ]
  },
  {
   "cell_type": "code",
   "execution_count": 332,
   "metadata": {},
   "outputs": [],
   "source": [
    "root_directory = Folder(\"/\", None, {}, [])\n",
    "current_directory = None\n",
    "rows = [row for row in split_data if row != \"$ ls\"]\n",
    "for row in rows:\n",
    "    if row.startswith(\"$ cd \"):\n",
    "        dir_name = row[5:]\n",
    "        if dir_name == \"/\":\n",
    "            current_directory = root_directory\n",
    "        elif dir_name == \"..\":\n",
    "            current_directory = current_directory.parent\n",
    "        else:\n",
    "            current_directory = current_directory.child_directories[dir_name]\n",
    "    elif row.startswith(\"dir \"):\n",
    "        dir_name = row.split(\" \")[1]\n",
    "        current_directory.child_directories[dir_name] = Folder(\n",
    "            dir_name, current_directory, {}, []\n",
    "        )\n",
    "    else:\n",
    "        file_details = row.split(\" \")\n",
    "        file_size = int(file_details[0])\n",
    "        file_name = file_details[1]\n",
    "        current_directory.child_files.append(\n",
    "            File(file_name, current_directory, file_size)\n",
    "        )\n"
   ]
  },
  {
   "cell_type": "code",
   "execution_count": 333,
   "metadata": {},
   "outputs": [
    {
     "name": "stdout",
     "output_type": "stream",
     "text": [
      "1581595\n"
     ]
    }
   ],
   "source": [
    "all_dirs =[root_directory] + root_directory.get_all_child_dirs()\n",
    "folders_under_100000 = []\n",
    "for folder in all_dirs:\n",
    "    if folder.size <= 100000:\n",
    "        if folder.size == wrong:\n",
    "            print(folder.path)\n",
    "        folders_under_100000.append(folder)\n",
    "\n",
    "print(sum([folder.size for folder in folders_under_100000]))"
   ]
  },
  {
   "cell_type": "code",
   "execution_count": 334,
   "metadata": {},
   "outputs": [
    {
     "name": "stdout",
     "output_type": "stream",
     "text": [
      "part 1: 1581595\n",
      "part 2: 1544176\n"
     ]
    }
   ],
   "source": []
  },
  {
   "cell_type": "markdown",
   "metadata": {},
   "source": [
    "--- Part Two ---\n"
   ]
  },
  {
   "cell_type": "code",
   "execution_count": 335,
   "metadata": {},
   "outputs": [],
   "source": [
    "space_to_free = 70000000 - root_directory.size"
   ]
  }
 ],
 "metadata": {
  "kernelspec": {
   "display_name": "Python 3.9.5 64-bit",
   "language": "python",
   "name": "python3"
  },
  "language_info": {
   "codemirror_mode": {
    "name": "ipython",
    "version": 3
   },
   "file_extension": ".py",
   "mimetype": "text/x-python",
   "name": "python",
   "nbconvert_exporter": "python",
   "pygments_lexer": "ipython3",
   "version": "3.9.5"
  },
  "orig_nbformat": 4,
  "vscode": {
   "interpreter": {
    "hash": "1eb2a5bd0784f5ab6e5e7696d72d6c6781a871cb41b23ea43d3e081da708a9e4"
   }
  }
 },
 "nbformat": 4,
 "nbformat_minor": 2
}
