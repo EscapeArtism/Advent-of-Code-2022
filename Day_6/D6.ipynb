{
 "cells": [
  {
   "cell_type": "markdown",
   "metadata": {},
   "source": [
    "--- Day 6:  ---\n"
   ]
  },
  {
   "cell_type": "code",
   "execution_count": 11,
   "metadata": {},
   "outputs": [],
   "source": [
    "with open(\"d6_data.txt\", \"r\") as file:\n",
    "    data = file.read()\n",
    "\n",
    "split_data = data.split(\"\\n\")"
   ]
  },
  {
   "cell_type": "code",
   "execution_count": 31,
   "metadata": {},
   "outputs": [],
   "source": [
    "class Folder:\n",
    "    \"\"\" \"\"\"\n",
    "\n",
    "    def __init__(self, name, parent, child_directories, child_files):\n",
    "        \"\"\"_summary_\n",
    "\n",
    "        Args:\n",
    "            name (str): _description_\n",
    "            parent (Folder): _description_\n",
    "            child_directories ([Folder]): _description_\n",
    "            child_files ([File]): _description_\n",
    "        \"\"\"       \n",
    "        self.name = name\n",
    "        self.parent = parent\n",
    "        self.child_directories = child_directories\n",
    "        self.child_files = child_files\n",
    "        if parent:\n",
    "            self.path = parent.path + \"/\" + name\n",
    "        else:\n",
    "            self.path = \"\"\n",
    "\n",
    "    @property\n",
    "    def size(self):\n",
    "        \"\"\"\n",
    "        \n",
    "        \"\"\"\n",
    "        children = list(self.child_directories.values()) + self.child_files\n",
    "\n",
    "        return sum([child.size for child in children])\n",
    "    \n",
    "    @property\n",
    "    def all_child_folders(self):\n",
    "        \"\"\"\n",
    "        \n",
    "        \"\"\"\n",
    "        return sum([folder.all_child_folders for folder in list(self.child_directories.values())], [])\n"
   ]
  },
  {
   "cell_type": "code",
   "execution_count": null,
   "metadata": {},
   "outputs": [],
   "source": [
    "class File():\n",
    "    \"\"\"\n",
    "    \n",
    "    \"\"\"\n",
    "    \n",
    "    def __init__(self, name, parent, size):\n",
    "        \"\"\"_summary_\n",
    "\n",
    "        Args:\n",
    "            name (str): _description_\n",
    "            parent (Folder): _description_\n",
    "            size (int): _description_\n",
    "        \"\"\"\n",
    "        self.name = name\n",
    "        self.parent = parent\n",
    "        self.size = size"
   ]
  },
  {
   "cell_type": "markdown",
   "metadata": {},
   "source": [
    "--- Part Two ---\n"
   ]
  },
  {
   "cell_type": "code",
   "execution_count": 36,
   "metadata": {},
   "outputs": [
    {
     "name": "stdout",
     "output_type": "stream",
     "text": [
      "['a', 'b', 'c']\n"
     ]
    }
   ],
   "source": [
    "x = [[\"a\",\"b\"], [\"c\"]]\n",
    "\n",
    "result = (x, [])\n",
    "print(result)"
   ]
  }
 ],
 "metadata": {
  "kernelspec": {
   "display_name": "Python 3.9.5 64-bit",
   "language": "python",
   "name": "python3"
  },
  "language_info": {
   "codemirror_mode": {
    "name": "ipython",
    "version": 3
   },
   "file_extension": ".py",
   "mimetype": "text/x-python",
   "name": "python",
   "nbconvert_exporter": "python",
   "pygments_lexer": "ipython3",
   "version": "3.9.5"
  },
  "orig_nbformat": 4,
  "vscode": {
   "interpreter": {
    "hash": "1eb2a5bd0784f5ab6e5e7696d72d6c6781a871cb41b23ea43d3e081da708a9e4"
   }
  }
 },
 "nbformat": 4,
 "nbformat_minor": 2
}
